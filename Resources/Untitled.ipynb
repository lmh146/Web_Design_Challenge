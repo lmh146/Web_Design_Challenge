{
 "cells": [
  {
   "cell_type": "code",
   "execution_count": 1,
   "id": "bcc91744",
   "metadata": {},
   "outputs": [],
   "source": [
    "import pandas as pd"
   ]
  },
  {
   "cell_type": "code",
   "execution_count": 2,
   "id": "15f49dc8",
   "metadata": {},
   "outputs": [],
   "source": [
    "cities_data_csv = \"cities.csv\""
   ]
  },
  {
   "cell_type": "code",
   "execution_count": 5,
   "id": "647724c2",
   "metadata": {},
   "outputs": [],
   "source": [
    "cities_df = pd.read_csv(cities_data_csv).set_index(\"City_ID\")"
   ]
  },
  {
   "cell_type": "code",
   "execution_count": 9,
   "id": "b47d3dc3",
   "metadata": {},
   "outputs": [],
   "source": [
    "cities_html = cities_df.to_html()"
   ]
  },
  {
   "cell_type": "code",
   "execution_count": 10,
   "id": "8e0adeaa",
   "metadata": {},
   "outputs": [],
   "source": [
    "f = open('cities.html','w')\n",
    "f.write(cities_html)\n",
    "f.close()"
   ]
  }
 ],
 "metadata": {
  "kernelspec": {
   "display_name": "Python [conda env:PythonData] *",
   "language": "python",
   "name": "conda-env-PythonData-py"
  },
  "language_info": {
   "codemirror_mode": {
    "name": "ipython",
    "version": 3
   },
   "file_extension": ".py",
   "mimetype": "text/x-python",
   "name": "python",
   "nbconvert_exporter": "python",
   "pygments_lexer": "ipython3",
   "version": "3.8.11"
  }
 },
 "nbformat": 4,
 "nbformat_minor": 5
}
